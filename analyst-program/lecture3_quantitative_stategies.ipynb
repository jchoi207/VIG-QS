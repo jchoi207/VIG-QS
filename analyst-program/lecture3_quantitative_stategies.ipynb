{
 "cells": [
  {
   "cell_type": "markdown",
   "metadata": {
    "vscode": {
     "languageId": "bat"
    }
   },
   "source": [
    "# Lecture 3 - Quantitative Trading Strategies\n",
    "\n",
    "**Content**:\n",
    "- Types of data\n",
    "- Data sources\n",
    "- Data storage (Pandas)\n",
    "- Time series analysis\n",
    "- Strategies + Signals"
   ]
  },
  {
   "cell_type": "markdown",
   "metadata": {},
   "source": [
    "### Types of data\n",
    "- Time-series data: data points collected at constant time intervals e.g. stock prices\n",
    "- Cross-sectional data: data points collected at a single point in time e.g. company balance sheet metrics\n",
    "- Panel data: combination of time-series and cross-sectional data e.g. company balance sheet metrics over time"
   ]
  },
  {
   "cell_type": "markdown",
   "metadata": {},
   "source": [
    "### Data sources\n",
    "- APIs: Application Programming Interfaces\n",
    "- APIs allow you to access data from a service provider. We used APIs to access financial data without having to download it manually."
   ]
  },
  {
   "cell_type": "markdown",
   "metadata": {},
   "source": [
    "### Data storage\n",
    "- Python has an amazing open source data analysis library called pandas.\n",
    "- Think of pandas as an extremely powerful version of Excel.\n",
    "- We can store data in a pandas DataFrame, which is a 2-dimensional labeled data structure with columns of potentially different types."
   ]
  },
  {
   "cell_type": "code",
   "execution_count": 26,
   "metadata": {},
   "outputs": [],
   "source": [
    "import pandas as pd"
   ]
  },
  {
   "cell_type": "code",
   "execution_count": 38,
   "metadata": {},
   "outputs": [
    {
     "name": "stdout",
     "output_type": "stream",
     "text": [
      "[20.25]\n",
      "Age    20.25\n",
      "dtype: float64\n"
     ]
    }
   ],
   "source": [
    "## creating a data frame\n",
    "## motivation: let's create a table that accounts for the ages of QS department members\n",
    "my_df1 = pd.DataFrame(columns=['Age'], index=['Jonathan', 'Arnav', 'Ella', 'Sophia'], data=[20, 20, 20, 21])\n",
    "\n",
    "## let's take the sum of all the ages, and divide it by the number: \n",
    "sum_of_ages = sum(my_df1.values)\n",
    "total_number_of_people = my_df1.shape[0]\n",
    "average_age = sum_of_ages / total_number_of_people\n",
    "print(average_age)\n",
    "\n",
    "## we can simplify the above process, by calling a mean function\n",
    "average_age = my_df1.mean()\n",
    "print(average_age)\n"
   ]
  },
  {
   "cell_type": "code",
   "execution_count": 51,
   "metadata": {},
   "outputs": [
    {
     "data": {
      "text/html": [
       "<div>\n",
       "<style scoped>\n",
       "    .dataframe tbody tr th:only-of-type {\n",
       "        vertical-align: middle;\n",
       "    }\n",
       "\n",
       "    .dataframe tbody tr th {\n",
       "        vertical-align: top;\n",
       "    }\n",
       "\n",
       "    .dataframe thead th {\n",
       "        text-align: right;\n",
       "    }\n",
       "</style>\n",
       "<table border=\"1\" class=\"dataframe\">\n",
       "  <thead>\n",
       "    <tr style=\"text-align: right;\">\n",
       "      <th></th>\n",
       "      <th>City</th>\n",
       "      <th>Country</th>\n",
       "      <th>Continent</th>\n",
       "      <th>Population (2024)</th>\n",
       "      <th>Population (2023)</th>\n",
       "      <th>Growth Rate</th>\n",
       "    </tr>\n",
       "  </thead>\n",
       "  <tbody>\n",
       "    <tr>\n",
       "      <th>0</th>\n",
       "      <td>Yancheng Jiangsu</td>\n",
       "      <td>China</td>\n",
       "      <td>Asia</td>\n",
       "      <td>2034326</td>\n",
       "      <td>1993463</td>\n",
       "      <td>0.0205</td>\n",
       "    </tr>\n",
       "    <tr>\n",
       "      <th>1</th>\n",
       "      <td>Dhanbad</td>\n",
       "      <td>India</td>\n",
       "      <td>Asia</td>\n",
       "      <td>1414532</td>\n",
       "      <td>1389776</td>\n",
       "      <td>0.0178</td>\n",
       "    </tr>\n",
       "    <tr>\n",
       "      <th>2</th>\n",
       "      <td>Peshawar</td>\n",
       "      <td>Pakistan</td>\n",
       "      <td>Asia</td>\n",
       "      <td>2480546</td>\n",
       "      <td>2411785</td>\n",
       "      <td>0.0285</td>\n",
       "    </tr>\n",
       "    <tr>\n",
       "      <th>3</th>\n",
       "      <td>Santiago</td>\n",
       "      <td>Chile</td>\n",
       "      <td>South America</td>\n",
       "      <td>6950952</td>\n",
       "      <td>6903392</td>\n",
       "      <td>0.0069</td>\n",
       "    </tr>\n",
       "    <tr>\n",
       "      <th>4</th>\n",
       "      <td>Sorocaba</td>\n",
       "      <td>Brazil</td>\n",
       "      <td>South America</td>\n",
       "      <td>821435</td>\n",
       "      <td>813320</td>\n",
       "      <td>0.0100</td>\n",
       "    </tr>\n",
       "    <tr>\n",
       "      <th>5</th>\n",
       "      <td>Abidjan</td>\n",
       "      <td>Ivory Coast</td>\n",
       "      <td>Africa</td>\n",
       "      <td>5866704</td>\n",
       "      <td>5686350</td>\n",
       "      <td>0.0317</td>\n",
       "    </tr>\n",
       "    <tr>\n",
       "      <th>6</th>\n",
       "      <td>Puning</td>\n",
       "      <td>China</td>\n",
       "      <td>Asia</td>\n",
       "      <td>1282756</td>\n",
       "      <td>1254160</td>\n",
       "      <td>0.0228</td>\n",
       "    </tr>\n",
       "    <tr>\n",
       "      <th>7</th>\n",
       "      <td>Sofia</td>\n",
       "      <td>Bulgaria</td>\n",
       "      <td>Europe</td>\n",
       "      <td>1287540</td>\n",
       "      <td>1288114</td>\n",
       "      <td>-0.0004</td>\n",
       "    </tr>\n",
       "  </tbody>\n",
       "</table>\n",
       "</div>"
      ],
      "text/plain": [
       "               City      Country      Continent  Population (2024)  \\\n",
       "0  Yancheng Jiangsu        China           Asia            2034326   \n",
       "1           Dhanbad        India           Asia            1414532   \n",
       "2          Peshawar     Pakistan           Asia            2480546   \n",
       "3          Santiago        Chile  South America            6950952   \n",
       "4          Sorocaba       Brazil  South America             821435   \n",
       "5           Abidjan  Ivory Coast         Africa            5866704   \n",
       "6            Puning        China           Asia            1282756   \n",
       "7             Sofia     Bulgaria         Europe            1287540   \n",
       "\n",
       "   Population (2023)  Growth Rate  \n",
       "0            1993463       0.0205  \n",
       "1            1389776       0.0178  \n",
       "2            2411785       0.0285  \n",
       "3            6903392       0.0069  \n",
       "4             813320       0.0100  \n",
       "5            5686350       0.0317  \n",
       "6            1254160       0.0228  \n",
       "7            1288114      -0.0004  "
      ]
     },
     "metadata": {},
     "output_type": "display_data"
    }
   ],
   "source": [
    "my_df2 = pd.read_csv('/Users/jonathanchoi/Desktop/GitHub Projects/VIG-QS/analyst-program/world population growth rate by cities 2024.csv')\n",
    "display(my_df2.head(8))"
   ]
  },
  {
   "cell_type": "code",
   "execution_count": 66,
   "metadata": {},
   "outputs": [
    {
     "data": {
      "text/plain": [
       "'Tokyo'"
      ]
     },
     "execution_count": 66,
     "metadata": {},
     "output_type": "execute_result"
    }
   ],
   "source": [
    "## first task: I want to know the largest city population in 2023\n",
    "# my_df2['Population (2023)'].max()\n",
    "\n",
    "my_df2.loc[my_df2['Population (2023)'].idxmax()]\n",
    "my_df2.loc[my_df2['Population (2023)'].idxmax()]['City']"
   ]
  },
  {
   "cell_type": "code",
   "execution_count": 77,
   "metadata": {},
   "outputs": [
    {
     "data": {
      "text/plain": [
       "32"
      ]
     },
     "execution_count": 77,
     "metadata": {},
     "output_type": "execute_result"
    }
   ],
   "source": [
    "## second task: I want to know the number of cities with a population above 10 e+06\n",
    "my_list = list(my_df2['Population (2023)'] >= 10e6)\n",
    "my_df2.loc[my_df2['Population (2023)'] >= 10e6].shape[0]"
   ]
  },
  {
   "cell_type": "code",
   "execution_count": 84,
   "metadata": {},
   "outputs": [
    {
     "name": "stdout",
     "output_type": "stream",
     "text": [
      "Asia\n",
      "500\n",
      "South America\n",
      "62\n",
      "Africa\n",
      "106\n",
      "Europe\n",
      "53\n",
      "North America\n",
      "63\n",
      "Oceania\n",
      "4\n",
      "nan\n",
      "0\n",
      "Oceana\n",
      "2\n"
     ]
    }
   ],
   "source": [
    "## third task: which continent, has the most cities in this dataframe?\n",
    "import numpy as np\n",
    "continents = my_df2['Continent'].unique()\n",
    "\n",
    "for continent in continents:\n",
    "    print(continent)\n",
    "    print(my_df2.loc[my_df2['Continent'] == continent].shape[0])\n",
    "    \n",
    "    \n",
    "Update    \n",
    "# I've finished my lectures (1 and 3) for the QS section of the analyst program. Feel free to check out the colab notebooks that I've posted above. \n",
    "# The time-series regression model is finished, I'm just waiting on Arnav to finish his cross-sectional model so we can compare and integrate the two of them.\n",
    "# I'm interviewing a QS applicant tomorrow morning, so I'll let you know how that goes."
   ]
  },
  {
   "cell_type": "markdown",
   "metadata": {},
   "source": [
    "### Time Series Analysis\n",
    "- Time series data is a sequence of data points collected at constant time intervals.\n",
    "- Time series analysis is used to extract meaningful statistics and other characteristics of the data.\n",
    "- We can plot the data to visualize trends, seasonality, and other patterns.\n",
    "- Let's first consider the concept of a moving average.\n",
    "- In finance, we have tail-events, which means that things that have never happened before, happen all the time."
   ]
  },
  {
   "cell_type": "markdown",
   "metadata": {},
   "source": [
    "#### Moving Average\n",
    "- Stock prices are inherently volatile, and fluctuate frequently, we call this noise.\n",
    "- However, we can smooth out the noise by calculating a simple moving average which is the average of the last n data points. \n",
    "  $$ SMA_t = \\frac{\\sum_{i=t-n}^{t} P_i}{n}$$\n",
    "- This formula is saying, that the SMA at time t, is the average of the last n data points.\n",
    "- Now, let's try to implement this in Python."
   ]
  },
  {
   "cell_type": "code",
   "execution_count": 5,
   "metadata": {},
   "outputs": [],
   "source": [
    "import numpy as np"
   ]
  },
  {
   "cell_type": "markdown",
   "metadata": {},
   "source": [
    "Let's look at an example of a SMA.\n",
    "\n",
    "Given an array with length $6$ and window size $3$, how would we calculate the SMA at each point?\n",
    "\n",
    "[0,1,2,3,4,5]\n",
    "- 0,1,2 -> 1\n",
    "- 1,2,3 -> 2 \n",
    "- 2,3,4 -> 3\n",
    "- 3,4,5 -> 4\n",
    "- 4,5 -> 5 (edge case)\n",
    "- 5 -> 5 (edge case)\n",
    "\n",
    "In the above example, we see that the window eventually reaches the end of the array, and we have to deal with the edge case.\n",
    "- After which index, does the window reach the end of the array?\n",
    "- The 4th index is where we run into the edge cases.\n",
    "\n",
    "In the general case, if we have an array with length $n$ and a window size of $w$, the edge cases begin at index $n-w+1$."
   ]
  },
  {
   "cell_type": "markdown",
   "metadata": {},
   "source": [
    "Let's establish the kind of data we're going to be working with"
   ]
  },
  {
   "cell_type": "code",
   "execution_count": 11,
   "metadata": {},
   "outputs": [],
   "source": [
    "import yfinance as yf"
   ]
  },
  {
   "cell_type": "code",
   "execution_count": 12,
   "metadata": {},
   "outputs": [],
   "source": [
    "my_nvda = yf.Ticker('NVDA')"
   ]
  },
  {
   "cell_type": "code",
   "execution_count": 53,
   "metadata": {},
   "outputs": [],
   "source": [
    "historical_data = my_nvda.history(start='2024-01-01', end='2024-02-01', interval='1d')['Close']\n",
    "# display(historical_data)\n",
    "# display(historical_data.values)\n",
    "# display(historical_data.index)\n",
    "# print(historical_data.shape)"
   ]
  },
  {
   "cell_type": "code",
   "execution_count": 54,
   "metadata": {},
   "outputs": [],
   "source": [
    "import matplotlib.pyplot as plt\n",
    "def my_moving_average(my_arr, n):\n",
    "    \"\"\"\n",
    "    This function takes in a np.array and computes the simple moving average based on n\n",
    "    \"\"\"\n",
    "    length = my_arr.shape[0]\n",
    "    my_sma_arr = np.empty(length)\n",
    "    my_sma_arr[:] = np.nan\n",
    "    \n",
    "    for i in range(length):\n",
    "        if i > length - n + 1:\n",
    "            my_sma_arr[i] = np.average(my_arr[i:])\n",
    "        else:\n",
    "            my_sma_arr[i] = np.average(my_arr[i:i+n])\n",
    "    \n",
    "    plt.plot(my_arr.index, my_sma_arr, label=f'SMA-{n}')\n",
    "    plt.xticks(rotation=30)\n",
    "    plt.plot(my_arr.index, my_arr.values, label='Data')\n",
    "\n",
    "    plt.legend()"
   ]
  },
  {
   "cell_type": "code",
   "execution_count": 55,
   "metadata": {},
   "outputs": [
    {
     "data": {
      "image/png": "[encoded data removed]",
      "text/plain": [
       "<Figure size 640x480 with 1 Axes>"
      ]
     },
     "metadata": {},
     "output_type": "display_data"
    }
   ],
   "source": [
    "my_moving_average(historical_data, 5)"
   ]
  },
  {
   "cell_type": "markdown",
   "metadata": {},
   "source": [
    "### Strategies + Signals\n",
    "- Now that we have a basic understanding of moving averages and time series data, we can start to think of strategies.\n",
    "- A strategy is a set of rules that determine when to buy or sell an asset.\n",
    "- Quantitative Trading Strategies are based on mathematical models that can be used to generate buy and sell signals.\n",
    "\n",
    "\n",
    "### Crossover Strategy\n",
    "- The crossover strategy is a simple trading strategy that uses two moving averages.\n",
    "- We have one short-term moving average SMA1 and one long-term moving average SMA2.\n",
    "- If SMA1 crosses above SMA2, we generate a buy signal. It indicates that the stock price is trending upwards (there is bullish momentum).\n",
    "- If SMA2 crosses above SMA1, we generate a sell signal. It indicates that the stock price is trending downwards (there is bearish momentum)."
   ]
  },
  {
   "cell_type": "code",
   "execution_count": 64,
   "metadata": {},
   "outputs": [],
   "source": [
    "import yfinance as yf\n",
    "import pandas as pd"
   ]
  },
  {
   "cell_type": "code",
   "execution_count": 91,
   "metadata": {},
   "outputs": [],
   "source": [
    "my_time_series_data = yf.Ticker('NVDA').history(start='2023-01-01', end='2024-08-20')['Close']\n",
    "my_time_series_data = pd.DataFrame(my_time_series_data)"
   ]
  },
  {
   "cell_type": "code",
   "execution_count": 86,
   "metadata": {},
   "outputs": [
    {
     "data": {
      "text/html": [
       "<div>\n",
       "<style scoped>\n",
       "    .dataframe tbody tr th:only-of-type {\n",
       "        vertical-align: middle;\n",
       "    }\n",
       "\n",
       "    .dataframe tbody tr th {\n",
       "        vertical-align: top;\n",
       "    }\n",
       "\n",
       "    .dataframe thead th {\n",
       "        text-align: right;\n",
       "    }\n",
       "</style>\n",
       "<table border=\"1\" class=\"dataframe\">\n",
       "  <thead>\n",
       "    <tr style=\"text-align: right;\">\n",
       "      <th></th>\n",
       "      <th>Close</th>\n",
       "    </tr>\n",
       "    <tr>\n",
       "      <th>Date</th>\n",
       "      <th></th>\n",
       "    </tr>\n",
       "  </thead>\n",
       "  <tbody>\n",
       "    <tr>\n",
       "      <th>2023-01-03 00:00:00-05:00</th>\n",
       "      <td>14.306805</td>\n",
       "    </tr>\n",
       "    <tr>\n",
       "      <th>2023-01-04 00:00:00-05:00</th>\n",
       "      <td>14.740557</td>\n",
       "    </tr>\n",
       "    <tr>\n",
       "      <th>2023-01-05 00:00:00-05:00</th>\n",
       "      <td>14.256834</td>\n",
       "    </tr>\n",
       "    <tr>\n",
       "      <th>2023-01-06 00:00:00-05:00</th>\n",
       "      <td>14.850493</td>\n",
       "    </tr>\n",
       "    <tr>\n",
       "      <th>2023-01-09 00:00:00-05:00</th>\n",
       "      <td>15.619055</td>\n",
       "    </tr>\n",
       "    <tr>\n",
       "      <th>2023-01-10 00:00:00-05:00</th>\n",
       "      <td>15.899893</td>\n",
       "    </tr>\n",
       "    <tr>\n",
       "      <th>2023-01-11 00:00:00-05:00</th>\n",
       "      <td>15.991838</td>\n",
       "    </tr>\n",
       "    <tr>\n",
       "      <th>2023-01-12 00:00:00-05:00</th>\n",
       "      <td>16.501545</td>\n",
       "    </tr>\n",
       "    <tr>\n",
       "      <th>2023-01-13 00:00:00-05:00</th>\n",
       "      <td>16.889324</td>\n",
       "    </tr>\n",
       "    <tr>\n",
       "      <th>2023-01-17 00:00:00-05:00</th>\n",
       "      <td>17.691866</td>\n",
       "    </tr>\n",
       "  </tbody>\n",
       "</table>\n",
       "</div>"
      ],
      "text/plain": [
       "                               Close\n",
       "Date                                \n",
       "2023-01-03 00:00:00-05:00  14.306805\n",
       "2023-01-04 00:00:00-05:00  14.740557\n",
       "2023-01-05 00:00:00-05:00  14.256834\n",
       "2023-01-06 00:00:00-05:00  14.850493\n",
       "2023-01-09 00:00:00-05:00  15.619055\n",
       "2023-01-10 00:00:00-05:00  15.899893\n",
       "2023-01-11 00:00:00-05:00  15.991838\n",
       "2023-01-12 00:00:00-05:00  16.501545\n",
       "2023-01-13 00:00:00-05:00  16.889324\n",
       "2023-01-17 00:00:00-05:00  17.691866"
      ]
     },
     "metadata": {},
     "output_type": "display_data"
    }
   ],
   "source": [
    "display(my_time_series_data.head(10))"
   ]
  },
  {
   "cell_type": "code",
   "execution_count": 92,
   "metadata": {},
   "outputs": [
    {
     "data": {
      "image/png": "[encoded data removed]",
      "text/plain": [
       "<Figure size 640x480 with 1 Axes>"
      ]
     },
     "metadata": {},
     "output_type": "display_data"
    }
   ],
   "source": [
    "plot = plt.plot(my_time_series_data.index, my_time_series_data.values)\n",
    "_ = plt.xticks(rotation=30)"
   ]
  },
  {
   "cell_type": "code",
   "execution_count": 93,
   "metadata": {},
   "outputs": [
    {
     "data": {
      "text/html": [
       "<div>\n",
       "<style scoped>\n",
       "    .dataframe tbody tr th:only-of-type {\n",
       "        vertical-align: middle;\n",
       "    }\n",
       "\n",
       "    .dataframe tbody tr th {\n",
       "        vertical-align: top;\n",
       "    }\n",
       "\n",
       "    .dataframe thead th {\n",
       "        text-align: right;\n",
       "    }\n",
       "</style>\n",
       "<table border=\"1\" class=\"dataframe\">\n",
       "  <thead>\n",
       "    <tr style=\"text-align: right;\">\n",
       "      <th></th>\n",
       "      <th>Close</th>\n",
       "    </tr>\n",
       "    <tr>\n",
       "      <th>Date</th>\n",
       "      <th></th>\n",
       "    </tr>\n",
       "  </thead>\n",
       "  <tbody>\n",
       "    <tr>\n",
       "      <th>2023-01-03 00:00:00-05:00</th>\n",
       "      <td>14.306805</td>\n",
       "    </tr>\n",
       "    <tr>\n",
       "      <th>2023-01-04 00:00:00-05:00</th>\n",
       "      <td>14.740557</td>\n",
       "    </tr>\n",
       "    <tr>\n",
       "      <th>2023-01-05 00:00:00-05:00</th>\n",
       "      <td>14.256834</td>\n",
       "    </tr>\n",
       "    <tr>\n",
       "      <th>2023-01-06 00:00:00-05:00</th>\n",
       "      <td>14.850493</td>\n",
       "    </tr>\n",
       "    <tr>\n",
       "      <th>2023-01-09 00:00:00-05:00</th>\n",
       "      <td>15.619055</td>\n",
       "    </tr>\n",
       "    <tr>\n",
       "      <th>...</th>\n",
       "      <td>...</td>\n",
       "    </tr>\n",
       "    <tr>\n",
       "      <th>2024-08-13 00:00:00-04:00</th>\n",
       "      <td>116.139999</td>\n",
       "    </tr>\n",
       "    <tr>\n",
       "      <th>2024-08-14 00:00:00-04:00</th>\n",
       "      <td>118.080002</td>\n",
       "    </tr>\n",
       "    <tr>\n",
       "      <th>2024-08-15 00:00:00-04:00</th>\n",
       "      <td>122.860001</td>\n",
       "    </tr>\n",
       "    <tr>\n",
       "      <th>2024-08-16 00:00:00-04:00</th>\n",
       "      <td>124.580002</td>\n",
       "    </tr>\n",
       "    <tr>\n",
       "      <th>2024-08-19 00:00:00-04:00</th>\n",
       "      <td>130.000000</td>\n",
       "    </tr>\n",
       "  </tbody>\n",
       "</table>\n",
       "<p>409 rows × 1 columns</p>\n",
       "</div>"
      ],
      "text/plain": [
       "                                Close\n",
       "Date                                 \n",
       "2023-01-03 00:00:00-05:00   14.306805\n",
       "2023-01-04 00:00:00-05:00   14.740557\n",
       "2023-01-05 00:00:00-05:00   14.256834\n",
       "2023-01-06 00:00:00-05:00   14.850493\n",
       "2023-01-09 00:00:00-05:00   15.619055\n",
       "...                               ...\n",
       "2024-08-13 00:00:00-04:00  116.139999\n",
       "2024-08-14 00:00:00-04:00  118.080002\n",
       "2024-08-15 00:00:00-04:00  122.860001\n",
       "2024-08-16 00:00:00-04:00  124.580002\n",
       "2024-08-19 00:00:00-04:00  130.000000\n",
       "\n",
       "[409 rows x 1 columns]"
      ]
     },
     "metadata": {},
     "output_type": "display_data"
    }
   ],
   "source": [
    "display(my_time_series_data)"
   ]
  },
  {
   "cell_type": "code",
   "execution_count": 99,
   "metadata": {},
   "outputs": [
    {
     "data": {
      "text/html": [
       "<div>\n",
       "<style scoped>\n",
       "    .dataframe tbody tr th:only-of-type {\n",
       "        vertical-align: middle;\n",
       "    }\n",
       "\n",
       "    .dataframe tbody tr th {\n",
       "        vertical-align: top;\n",
       "    }\n",
       "\n",
       "    .dataframe thead th {\n",
       "        text-align: right;\n",
       "    }\n",
       "</style>\n",
       "<table border=\"1\" class=\"dataframe\">\n",
       "  <thead>\n",
       "    <tr style=\"text-align: right;\">\n",
       "      <th></th>\n",
       "      <th>Close</th>\n",
       "      <th>SMA_small</th>\n",
       "      <th>SMA_large</th>\n",
       "      <th>Small &gt; Large</th>\n",
       "    </tr>\n",
       "    <tr>\n",
       "      <th>Date</th>\n",
       "      <th></th>\n",
       "      <th></th>\n",
       "      <th></th>\n",
       "      <th></th>\n",
       "    </tr>\n",
       "  </thead>\n",
       "  <tbody>\n",
       "    <tr>\n",
       "      <th>2023-01-03 00:00:00-05:00</th>\n",
       "      <td>14.306805</td>\n",
       "      <td>NaN</td>\n",
       "      <td>NaN</td>\n",
       "      <td>False</td>\n",
       "    </tr>\n",
       "    <tr>\n",
       "      <th>2023-01-04 00:00:00-05:00</th>\n",
       "      <td>14.740557</td>\n",
       "      <td>NaN</td>\n",
       "      <td>NaN</td>\n",
       "      <td>False</td>\n",
       "    </tr>\n",
       "    <tr>\n",
       "      <th>2023-01-05 00:00:00-05:00</th>\n",
       "      <td>14.256834</td>\n",
       "      <td>NaN</td>\n",
       "      <td>NaN</td>\n",
       "      <td>False</td>\n",
       "    </tr>\n",
       "    <tr>\n",
       "      <th>2023-01-06 00:00:00-05:00</th>\n",
       "      <td>14.850493</td>\n",
       "      <td>NaN</td>\n",
       "      <td>NaN</td>\n",
       "      <td>False</td>\n",
       "    </tr>\n",
       "    <tr>\n",
       "      <th>2023-01-09 00:00:00-05:00</th>\n",
       "      <td>15.619055</td>\n",
       "      <td>NaN</td>\n",
       "      <td>NaN</td>\n",
       "      <td>False</td>\n",
       "    </tr>\n",
       "    <tr>\n",
       "      <th>...</th>\n",
       "      <td>...</td>\n",
       "      <td>...</td>\n",
       "      <td>...</td>\n",
       "      <td>...</td>\n",
       "    </tr>\n",
       "    <tr>\n",
       "      <th>2024-08-13 00:00:00-04:00</th>\n",
       "      <td>116.139999</td>\n",
       "      <td>107.198999</td>\n",
       "      <td>120.083681</td>\n",
       "      <td>False</td>\n",
       "    </tr>\n",
       "    <tr>\n",
       "      <th>2024-08-14 00:00:00-04:00</th>\n",
       "      <td>118.080002</td>\n",
       "      <td>107.305000</td>\n",
       "      <td>120.145470</td>\n",
       "      <td>False</td>\n",
       "    </tr>\n",
       "    <tr>\n",
       "      <th>2024-08-15 00:00:00-04:00</th>\n",
       "      <td>122.860001</td>\n",
       "      <td>108.670000</td>\n",
       "      <td>120.274122</td>\n",
       "      <td>False</td>\n",
       "    </tr>\n",
       "    <tr>\n",
       "      <th>2024-08-16 00:00:00-04:00</th>\n",
       "      <td>124.580002</td>\n",
       "      <td>110.401000</td>\n",
       "      <td>120.317123</td>\n",
       "      <td>False</td>\n",
       "    </tr>\n",
       "    <tr>\n",
       "      <th>2024-08-19 00:00:00-04:00</th>\n",
       "      <td>130.000000</td>\n",
       "      <td>113.356001</td>\n",
       "      <td>120.497361</td>\n",
       "      <td>False</td>\n",
       "    </tr>\n",
       "  </tbody>\n",
       "</table>\n",
       "<p>409 rows × 4 columns</p>\n",
       "</div>"
      ],
      "text/plain": [
       "                                Close   SMA_small   SMA_large  Small > Large\n",
       "Date                                                                        \n",
       "2023-01-03 00:00:00-05:00   14.306805         NaN         NaN          False\n",
       "2023-01-04 00:00:00-05:00   14.740557         NaN         NaN          False\n",
       "2023-01-05 00:00:00-05:00   14.256834         NaN         NaN          False\n",
       "2023-01-06 00:00:00-05:00   14.850493         NaN         NaN          False\n",
       "2023-01-09 00:00:00-05:00   15.619055         NaN         NaN          False\n",
       "...                               ...         ...         ...            ...\n",
       "2024-08-13 00:00:00-04:00  116.139999  107.198999  120.083681          False\n",
       "2024-08-14 00:00:00-04:00  118.080002  107.305000  120.145470          False\n",
       "2024-08-15 00:00:00-04:00  122.860001  108.670000  120.274122          False\n",
       "2024-08-16 00:00:00-04:00  124.580002  110.401000  120.317123          False\n",
       "2024-08-19 00:00:00-04:00  130.000000  113.356001  120.497361          False\n",
       "\n",
       "[409 rows x 4 columns]"
      ]
     },
     "metadata": {},
     "output_type": "display_data"
    },
    {
     "name": "stdout",
     "output_type": "stream",
     "text": [
      "Buy signal @ 2023-03-15 00:00:00-04:00\n",
      "Sell signal @ 2023-08-18 00:00:00-04:00\n",
      "Buy signal @ 2023-08-23 00:00:00-04:00\n",
      "Sell signal @ 2023-09-19 00:00:00-04:00\n",
      "Buy signal @ 2023-10-12 00:00:00-04:00\n",
      "Sell signal @ 2023-10-20 00:00:00-04:00\n",
      "Buy signal @ 2023-11-10 00:00:00-05:00\n",
      "Sell signal @ 2024-04-24 00:00:00-04:00\n",
      "Buy signal @ 2024-05-08 00:00:00-04:00\n",
      "Sell signal @ 2024-07-29 00:00:00-04:00\n"
     ]
    },
    {
     "data": {
      "image/png": "[encoded data removed]",
      "text/plain": [
       "<Figure size 640x480 with 1 Axes>"
      ]
     },
     "metadata": {},
     "output_type": "display_data"
    }
   ],
   "source": [
    "def my_cross_over_strategy(time_series_closes, window_small, window_large):\n",
    "     \"\"\"\n",
    "     We want to output a signal buy or sell, depending on when we have a cross over between the large and small moving averages\n",
    "     e.g. 10, 14, (small)\n",
    "          11, 12 (large) -> output a buy signal, since the small oving average cross over the large\n",
    "     \"\"\"\n",
    "     time_series_closes['SMA_small'] = time_series_closes['Close'].rolling(window=window_small).mean()\n",
    "     time_series_closes['SMA_large'] = time_series_closes['Close'].rolling(window=window_large).mean()\n",
    "     \n",
    "     ## let's compare small with large:\n",
    "     time_series_closes['Small > Large'] = time_series_closes['SMA_small'] > time_series_closes['SMA_large']\n",
    "     display(time_series_closes)\n",
    "     \n",
    "     # when False -> True\n",
    "     # Positive cross over, so now small is greater than large, buy signal\n",
    "     \n",
    "     signals = {\n",
    "          'buy': [],\n",
    "          'sell': []\n",
    "     }\n",
    "     \n",
    "     boolean_column = time_series_closes['Small > Large']\n",
    "     previous = boolean_column.values[0]\n",
    "     for index in boolean_column.index:\n",
    "          current = boolean_column[index]\n",
    "          if previous == current:\n",
    "               # don't send signal nothing has crossed over\n",
    "               previous = current\n",
    "               continue\n",
    "          else:\n",
    "               # we send a signal, because something has crossed over\n",
    "               # but we need to figure out if it's a positive or negative cross over\n",
    "               if current == True:\n",
    "                    previous = current\n",
    "                    # if current was true, then the previous must have been false\n",
    "                    print(f'Buy signal @ {index}')\n",
    "                    signals['buy'].append(index)\n",
    "               else:\n",
    "                    previous = current \n",
    "                    # if current was false, then the previous must have been true \n",
    "                    print(f'Sell signal @ {index}')     \n",
    "                    signals['sell'].append(index)\n",
    "     plt.plot(time_series_closes.index, time_series_closes['Close'].values, label='time_series_data')\n",
    "     plt.plot(time_series_closes.index, time_series_closes['SMA_small'].values, label='SMA_small')\n",
    "     plt.plot(time_series_closes.index, time_series_closes['SMA_large'].values, label='SMA_large')\n",
    "     plt.xticks(rotation=30)\n",
    "     plt.legend()\n",
    "     \n",
    "     \n",
    "     ## I want to show on the graph, the buy and sell signals\n",
    "     \n",
    "     for key in signals.keys():\n",
    "          for date in signals[key]:\n",
    "               plt.axvline(date, color = ('g' if key == 'buy' else 'r'))\n",
    "          \n",
    "          \n",
    "my_cross_over_strategy(my_time_series_data, 10, 50)"
   ]
  }
 ],
 "metadata": {
  "kernelspec": {
   "display_name": "finance",
   "language": "python",
   "name": "python3"
  },
  "language_info": {
   "codemirror_mode": {
    "name": "ipython",
    "version": 3
   },
   "file_extension": ".py",
   "mimetype": "text/x-python",
   "name": "python",
   "nbconvert_exporter": "python",
   "pygments_lexer": "ipython3",
   "version": "3.11.8"
  }
 },
 "nbformat": 4,
 "nbformat_minor": 2
}
