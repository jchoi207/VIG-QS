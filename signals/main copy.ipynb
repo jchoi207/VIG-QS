{
 "cells": [
  {
   "cell_type": "markdown",
   "metadata": {},
   "source": [
    "# Signals\n",
    "- Generate a buy, sell signal depending on the following conditions:\n",
    "    - Cross-over of 5-day and 20-day moving averages.\n",
    "    - Market sentiment is positive.\n",
    "    - ARIMA model predicts an increase in the stock price.\n",
    "    - RSI (relative strength index)"
   ]
  },
  {
   "cell_type": "markdown",
   "metadata": {},
   "source": [
    "- Consider 30 minute intervals for stock price data"
   ]
  },
  {
   "cell_type": "code",
   "execution_count": 2,
   "metadata": {},
   "outputs": [],
   "source": [
    "import strategies\n",
    "import seaborn as sns\n",
    "\n",
    "import pandas as pd\n",
    "import datetime as dt"
   ]
  },
  {
   "cell_type": "code",
   "execution_count": 2,
   "metadata": {},
   "outputs": [
    {
     "data": {
      "text/html": [
       "<div>\n",
       "<style scoped>\n",
       "    .dataframe tbody tr th:only-of-type {\n",
       "        vertical-align: middle;\n",
       "    }\n",
       "\n",
       "    .dataframe tbody tr th {\n",
       "        vertical-align: top;\n",
       "    }\n",
       "\n",
       "    .dataframe thead th {\n",
       "        text-align: right;\n",
       "    }\n",
       "</style>\n",
       "<table border=\"1\" class=\"dataframe\">\n",
       "  <thead>\n",
       "    <tr style=\"text-align: right;\">\n",
       "      <th></th>\n",
       "      <th>my_cross_over_strategy</th>\n",
       "      <th>my_mfi</th>\n",
       "      <th>my_roc</th>\n",
       "      <th>my_rsi</th>\n",
       "      <th>my_smi</th>\n",
       "      <th>my_bollinger_bands</th>\n",
       "    </tr>\n",
       "  </thead>\n",
       "  <tbody>\n",
       "    <tr>\n",
       "      <th>2023-01-02</th>\n",
       "      <td>NaN</td>\n",
       "      <td>NaN</td>\n",
       "      <td>NaN</td>\n",
       "      <td>NaN</td>\n",
       "      <td>NaN</td>\n",
       "      <td>NaN</td>\n",
       "    </tr>\n",
       "    <tr>\n",
       "      <th>2023-01-03</th>\n",
       "      <td>NaN</td>\n",
       "      <td>NaN</td>\n",
       "      <td>NaN</td>\n",
       "      <td>NaN</td>\n",
       "      <td>NaN</td>\n",
       "      <td>NaN</td>\n",
       "    </tr>\n",
       "    <tr>\n",
       "      <th>2023-01-04</th>\n",
       "      <td>NaN</td>\n",
       "      <td>NaN</td>\n",
       "      <td>NaN</td>\n",
       "      <td>1.0</td>\n",
       "      <td>NaN</td>\n",
       "      <td>NaN</td>\n",
       "    </tr>\n",
       "    <tr>\n",
       "      <th>2023-01-05</th>\n",
       "      <td>NaN</td>\n",
       "      <td>NaN</td>\n",
       "      <td>NaN</td>\n",
       "      <td>1.0</td>\n",
       "      <td>NaN</td>\n",
       "      <td>NaN</td>\n",
       "    </tr>\n",
       "    <tr>\n",
       "      <th>2023-01-06</th>\n",
       "      <td>NaN</td>\n",
       "      <td>NaN</td>\n",
       "      <td>NaN</td>\n",
       "      <td>NaN</td>\n",
       "      <td>NaN</td>\n",
       "      <td>NaN</td>\n",
       "    </tr>\n",
       "    <tr>\n",
       "      <th>...</th>\n",
       "      <td>...</td>\n",
       "      <td>...</td>\n",
       "      <td>...</td>\n",
       "      <td>...</td>\n",
       "      <td>...</td>\n",
       "      <td>...</td>\n",
       "    </tr>\n",
       "    <tr>\n",
       "      <th>2023-12-26</th>\n",
       "      <td>NaN</td>\n",
       "      <td>NaN</td>\n",
       "      <td>NaN</td>\n",
       "      <td>NaN</td>\n",
       "      <td>1.0</td>\n",
       "      <td>NaN</td>\n",
       "    </tr>\n",
       "    <tr>\n",
       "      <th>2023-12-27</th>\n",
       "      <td>NaN</td>\n",
       "      <td>NaN</td>\n",
       "      <td>NaN</td>\n",
       "      <td>NaN</td>\n",
       "      <td>1.0</td>\n",
       "      <td>NaN</td>\n",
       "    </tr>\n",
       "    <tr>\n",
       "      <th>2023-12-28</th>\n",
       "      <td>NaN</td>\n",
       "      <td>NaN</td>\n",
       "      <td>NaN</td>\n",
       "      <td>NaN</td>\n",
       "      <td>NaN</td>\n",
       "      <td>NaN</td>\n",
       "    </tr>\n",
       "    <tr>\n",
       "      <th>2023-12-29</th>\n",
       "      <td>NaN</td>\n",
       "      <td>NaN</td>\n",
       "      <td>NaN</td>\n",
       "      <td>NaN</td>\n",
       "      <td>NaN</td>\n",
       "      <td>NaN</td>\n",
       "    </tr>\n",
       "    <tr>\n",
       "      <th>2024-01-01</th>\n",
       "      <td>NaN</td>\n",
       "      <td>NaN</td>\n",
       "      <td>NaN</td>\n",
       "      <td>NaN</td>\n",
       "      <td>NaN</td>\n",
       "      <td>NaN</td>\n",
       "    </tr>\n",
       "  </tbody>\n",
       "</table>\n",
       "<p>261 rows × 6 columns</p>\n",
       "</div>"
      ],
      "text/plain": [
       "            my_cross_over_strategy  my_mfi  my_roc  my_rsi  my_smi  \\\n",
       "2023-01-02                     NaN     NaN     NaN     NaN     NaN   \n",
       "2023-01-03                     NaN     NaN     NaN     NaN     NaN   \n",
       "2023-01-04                     NaN     NaN     NaN     1.0     NaN   \n",
       "2023-01-05                     NaN     NaN     NaN     1.0     NaN   \n",
       "2023-01-06                     NaN     NaN     NaN     NaN     NaN   \n",
       "...                            ...     ...     ...     ...     ...   \n",
       "2023-12-26                     NaN     NaN     NaN     NaN     1.0   \n",
       "2023-12-27                     NaN     NaN     NaN     NaN     1.0   \n",
       "2023-12-28                     NaN     NaN     NaN     NaN     NaN   \n",
       "2023-12-29                     NaN     NaN     NaN     NaN     NaN   \n",
       "2024-01-01                     NaN     NaN     NaN     NaN     NaN   \n",
       "\n",
       "            my_bollinger_bands  \n",
       "2023-01-02                 NaN  \n",
       "2023-01-03                 NaN  \n",
       "2023-01-04                 NaN  \n",
       "2023-01-05                 NaN  \n",
       "2023-01-06                 NaN  \n",
       "...                        ...  \n",
       "2023-12-26                 NaN  \n",
       "2023-12-27                 NaN  \n",
       "2023-12-28                 NaN  \n",
       "2023-12-29                 NaN  \n",
       "2024-01-01                 NaN  \n",
       "\n",
       "[261 rows x 6 columns]"
      ]
     },
     "metadata": {},
     "output_type": "display_data"
    },
    {
     "data": {
      "text/plain": [
       "<Axes: >"
      ]
     },
     "execution_count": 2,
     "metadata": {},
     "output_type": "execute_result"
    },
    {
     "data": {
      "image/png": "[encoded data removed]",
      "text/plain": [
       "<Figure size 640x480 with 2 Axes>"
      ]
     },
     "metadata": {},
     "output_type": "display_data"
    }
   ],
   "source": [
    "start_date = '2023-01-01'\n",
    "end_date = '2024-01-01'\n",
    "ticker = 'LLY'\n",
    "i = '1d'\n",
    "plot=False\n",
    "frame = pd.DataFrame(index = pd.bdate_range(start=pd.Timestamp(start_date), end=pd.Timestamp(end_date)))\n",
    "\n",
    "\n",
    "for strategy in ['my_cross_over_strategy', 'my_mfi','my_roc','my_rsi','my_smi','my_bollinger_bands']:\n",
    "    code = f\"\"\"returns = strategies.{strategy}(ticker=ticker, start=start_date, end=end_date, interval=i, plot_graphs=False)\"\"\"\n",
    "    local_scope = {}\n",
    "    exec(code, globals(), local_scope)\n",
    "    \n",
    "    buy_indices =local_scope['returns']['buy']\n",
    "    sell_indices =local_scope['returns']['sell']\n",
    "    \n",
    "    # buy_indices = exec(f\"strategies.{strategy}(ticker=ticker, start=start_date, end=end_date, interval=i, plot_graphs=False)\")['buy']\n",
    "    # sell_indices = exec(f\"strategies.{strategy}(ticker=ticker, start=start_date, end=end_date, interval=i, plot_graphs=False)['sell']\")\n",
    "    \n",
    "    for date in buy_indices:\n",
    "        frame.loc[pd.Timestamp(date).normalize().tz_localize(None), strategy]  = 1 \n",
    "    for date in sell_indices:\n",
    "        frame.loc[pd.Timestamp(date).normalize().tz_localize(None), strategy]  = -1\n",
    "display(frame)\n",
    "\n",
    "\n",
    "correlation_matrix = frame.corr()\n",
    "\n",
    "sns.heatmap(correlation_matrix, annot=True, cmap='coolwarm', vmin=-1, vmax=1, linewidths=0.5, linecolor='black')\n"
   ]
  },
  {
   "cell_type": "code",
   "execution_count": 3,
   "metadata": {},
   "outputs": [
    {
     "data": {
      "text/plain": [
       "{'buy': DatetimeIndex(['2023-01-23 00:00:00-05:00', '2023-10-02 00:00:00-04:00',\n",
       "                '2023-10-03 00:00:00-04:00', '2023-10-04 00:00:00-04:00'],\n",
       "               dtype='datetime64[ns, America/New_York]', name='Date', freq=None),\n",
       " 'sell': DatetimeIndex(['2023-03-16 00:00:00-04:00', '2023-03-17 00:00:00-04:00',\n",
       "                '2023-03-20 00:00:00-04:00', '2023-03-21 00:00:00-04:00',\n",
       "                '2023-03-22 00:00:00-04:00', '2023-03-23 00:00:00-04:00',\n",
       "                '2023-03-24 00:00:00-04:00', '2023-03-27 00:00:00-04:00',\n",
       "                '2023-03-28 00:00:00-04:00', '2023-03-29 00:00:00-04:00',\n",
       "                '2023-03-30 00:00:00-04:00', '2023-04-14 00:00:00-04:00',\n",
       "                '2023-05-03 00:00:00-04:00', '2023-05-04 00:00:00-04:00',\n",
       "                '2023-05-05 00:00:00-04:00', '2023-05-08 00:00:00-04:00',\n",
       "                '2023-05-09 00:00:00-04:00', '2023-05-10 00:00:00-04:00',\n",
       "                '2023-05-11 00:00:00-04:00', '2023-05-12 00:00:00-04:00',\n",
       "                '2023-05-15 00:00:00-04:00', '2023-05-16 00:00:00-04:00',\n",
       "                '2023-05-17 00:00:00-04:00', '2023-05-18 00:00:00-04:00',\n",
       "                '2023-05-19 00:00:00-04:00', '2023-08-22 00:00:00-04:00',\n",
       "                '2023-08-23 00:00:00-04:00', '2023-08-24 00:00:00-04:00',\n",
       "                '2023-08-29 00:00:00-04:00', '2023-09-13 00:00:00-04:00'],\n",
       "               dtype='datetime64[ns, America/New_York]', name='Date', freq=None)}"
      ]
     },
     "execution_count": 3,
     "metadata": {},
     "output_type": "execute_result"
    }
   ],
   "source": [
    "strategies.my_mfi(ticker='LLY', start='2023-01-01', end='2024-01-01', interval='1d', period=13, min=20, max=80, plot_graphs=False)"
   ]
  },
  {
   "cell_type": "code",
   "execution_count": 4,
   "metadata": {},
   "outputs": [
    {
     "data": {
      "text/plain": [
       "{'buy': [Timestamp('2023-08-08 00:00:00-0400', tz='America/New_York')],\n",
       " 'sell': [Timestamp('2023-11-15 00:00:00-0500', tz='America/New_York')]}"
      ]
     },
     "execution_count": 4,
     "metadata": {},
     "output_type": "execute_result"
    }
   ],
   "source": [
    "strategies.my_roc(ticker='LLY', start='2023-01-01', end='2024-01-01', interval='1d', shift=9, plot_graphs=False)"
   ]
  },
  {
   "cell_type": "code",
   "execution_count": 5,
   "metadata": {},
   "outputs": [
    {
     "data": {
      "text/plain": [
       "{'buy': [Timestamp('2023-01-04 00:00:00-0500', tz='America/New_York'),\n",
       "  Timestamp('2023-01-05 00:00:00-0500', tz='America/New_York'),\n",
       "  Timestamp('2023-01-09 00:00:00-0500', tz='America/New_York'),\n",
       "  Timestamp('2023-01-10 00:00:00-0500', tz='America/New_York'),\n",
       "  Timestamp('2023-02-02 00:00:00-0500', tz='America/New_York'),\n",
       "  Timestamp('2023-02-28 00:00:00-0500', tz='America/New_York'),\n",
       "  Timestamp('2023-03-01 00:00:00-0500', tz='America/New_York'),\n",
       "  Timestamp('2023-03-02 00:00:00-0500', tz='America/New_York'),\n",
       "  Timestamp('2023-03-03 00:00:00-0500', tz='America/New_York'),\n",
       "  Timestamp('2023-03-06 00:00:00-0500', tz='America/New_York'),\n",
       "  Timestamp('2023-03-07 00:00:00-0500', tz='America/New_York'),\n",
       "  Timestamp('2023-03-08 00:00:00-0500', tz='America/New_York'),\n",
       "  Timestamp('2023-09-28 00:00:00-0400', tz='America/New_York'),\n",
       "  Timestamp('2023-09-29 00:00:00-0400', tz='America/New_York'),\n",
       "  Timestamp('2023-10-02 00:00:00-0400', tz='America/New_York'),\n",
       "  Timestamp('2023-10-03 00:00:00-0400', tz='America/New_York'),\n",
       "  Timestamp('2023-10-04 00:00:00-0400', tz='America/New_York'),\n",
       "  Timestamp('2023-10-05 00:00:00-0400', tz='America/New_York'),\n",
       "  Timestamp('2023-10-31 00:00:00-0400', tz='America/New_York'),\n",
       "  Timestamp('2023-11-01 00:00:00-0400', tz='America/New_York')],\n",
       " 'sell': [Timestamp('2023-03-20 00:00:00-0400', tz='America/New_York'),\n",
       "  Timestamp('2023-03-27 00:00:00-0400', tz='America/New_York'),\n",
       "  Timestamp('2023-03-28 00:00:00-0400', tz='America/New_York'),\n",
       "  Timestamp('2023-03-29 00:00:00-0400', tz='America/New_York'),\n",
       "  Timestamp('2023-03-30 00:00:00-0400', tz='America/New_York'),\n",
       "  Timestamp('2023-03-31 00:00:00-0400', tz='America/New_York'),\n",
       "  Timestamp('2023-04-03 00:00:00-0400', tz='America/New_York'),\n",
       "  Timestamp('2023-04-04 00:00:00-0400', tz='America/New_York'),\n",
       "  Timestamp('2023-04-05 00:00:00-0400', tz='America/New_York'),\n",
       "  Timestamp('2023-04-06 00:00:00-0400', tz='America/New_York'),\n",
       "  Timestamp('2023-04-10 00:00:00-0400', tz='America/New_York'),\n",
       "  Timestamp('2023-04-11 00:00:00-0400', tz='America/New_York'),\n",
       "  Timestamp('2023-04-12 00:00:00-0400', tz='America/New_York'),\n",
       "  Timestamp('2023-04-13 00:00:00-0400', tz='America/New_York'),\n",
       "  Timestamp('2023-04-14 00:00:00-0400', tz='America/New_York'),\n",
       "  Timestamp('2023-04-17 00:00:00-0400', tz='America/New_York'),\n",
       "  Timestamp('2023-04-18 00:00:00-0400', tz='America/New_York'),\n",
       "  Timestamp('2023-04-19 00:00:00-0400', tz='America/New_York'),\n",
       "  Timestamp('2023-04-20 00:00:00-0400', tz='America/New_York'),\n",
       "  Timestamp('2023-04-21 00:00:00-0400', tz='America/New_York'),\n",
       "  Timestamp('2023-04-24 00:00:00-0400', tz='America/New_York'),\n",
       "  Timestamp('2023-04-25 00:00:00-0400', tz='America/New_York'),\n",
       "  Timestamp('2023-04-28 00:00:00-0400', tz='America/New_York'),\n",
       "  Timestamp('2023-05-01 00:00:00-0400', tz='America/New_York'),\n",
       "  Timestamp('2023-05-02 00:00:00-0400', tz='America/New_York'),\n",
       "  Timestamp('2023-05-03 00:00:00-0400', tz='America/New_York'),\n",
       "  Timestamp('2023-05-04 00:00:00-0400', tz='America/New_York'),\n",
       "  Timestamp('2023-05-05 00:00:00-0400', tz='America/New_York'),\n",
       "  Timestamp('2023-05-08 00:00:00-0400', tz='America/New_York'),\n",
       "  Timestamp('2023-05-09 00:00:00-0400', tz='America/New_York'),\n",
       "  Timestamp('2023-05-10 00:00:00-0400', tz='America/New_York'),\n",
       "  Timestamp('2023-05-11 00:00:00-0400', tz='America/New_York'),\n",
       "  Timestamp('2023-05-12 00:00:00-0400', tz='America/New_York'),\n",
       "  Timestamp('2023-05-15 00:00:00-0400', tz='America/New_York'),\n",
       "  Timestamp('2023-05-16 00:00:00-0400', tz='America/New_York'),\n",
       "  Timestamp('2023-05-17 00:00:00-0400', tz='America/New_York'),\n",
       "  Timestamp('2023-05-18 00:00:00-0400', tz='America/New_York'),\n",
       "  Timestamp('2023-05-19 00:00:00-0400', tz='America/New_York'),\n",
       "  Timestamp('2023-05-22 00:00:00-0400', tz='America/New_York'),\n",
       "  Timestamp('2023-06-13 00:00:00-0400', tz='America/New_York'),\n",
       "  Timestamp('2023-06-14 00:00:00-0400', tz='America/New_York'),\n",
       "  Timestamp('2023-06-15 00:00:00-0400', tz='America/New_York'),\n",
       "  Timestamp('2023-06-16 00:00:00-0400', tz='America/New_York'),\n",
       "  Timestamp('2023-06-20 00:00:00-0400', tz='America/New_York'),\n",
       "  Timestamp('2023-06-21 00:00:00-0400', tz='America/New_York'),\n",
       "  Timestamp('2023-06-22 00:00:00-0400', tz='America/New_York'),\n",
       "  Timestamp('2023-08-08 00:00:00-0400', tz='America/New_York'),\n",
       "  Timestamp('2023-08-09 00:00:00-0400', tz='America/New_York'),\n",
       "  Timestamp('2023-08-10 00:00:00-0400', tz='America/New_York'),\n",
       "  Timestamp('2023-08-11 00:00:00-0400', tz='America/New_York'),\n",
       "  Timestamp('2023-08-14 00:00:00-0400', tz='America/New_York'),\n",
       "  Timestamp('2023-08-15 00:00:00-0400', tz='America/New_York'),\n",
       "  Timestamp('2023-08-16 00:00:00-0400', tz='America/New_York'),\n",
       "  Timestamp('2023-08-17 00:00:00-0400', tz='America/New_York'),\n",
       "  Timestamp('2023-08-18 00:00:00-0400', tz='America/New_York'),\n",
       "  Timestamp('2023-08-21 00:00:00-0400', tz='America/New_York'),\n",
       "  Timestamp('2023-08-22 00:00:00-0400', tz='America/New_York'),\n",
       "  Timestamp('2023-08-23 00:00:00-0400', tz='America/New_York'),\n",
       "  Timestamp('2023-08-24 00:00:00-0400', tz='America/New_York'),\n",
       "  Timestamp('2023-08-25 00:00:00-0400', tz='America/New_York'),\n",
       "  Timestamp('2023-08-28 00:00:00-0400', tz='America/New_York'),\n",
       "  Timestamp('2023-08-29 00:00:00-0400', tz='America/New_York'),\n",
       "  Timestamp('2023-08-30 00:00:00-0400', tz='America/New_York'),\n",
       "  Timestamp('2023-09-07 00:00:00-0400', tz='America/New_York'),\n",
       "  Timestamp('2023-09-08 00:00:00-0400', tz='America/New_York'),\n",
       "  Timestamp('2023-09-11 00:00:00-0400', tz='America/New_York'),\n",
       "  Timestamp('2023-09-12 00:00:00-0400', tz='America/New_York'),\n",
       "  Timestamp('2023-09-13 00:00:00-0400', tz='America/New_York'),\n",
       "  Timestamp('2023-09-14 00:00:00-0400', tz='America/New_York'),\n",
       "  Timestamp('2023-10-11 00:00:00-0400', tz='America/New_York'),\n",
       "  Timestamp('2023-10-12 00:00:00-0400', tz='America/New_York'),\n",
       "  Timestamp('2023-10-13 00:00:00-0400', tz='America/New_York'),\n",
       "  Timestamp('2023-10-16 00:00:00-0400', tz='America/New_York'),\n",
       "  Timestamp('2023-10-17 00:00:00-0400', tz='America/New_York'),\n",
       "  Timestamp('2023-10-18 00:00:00-0400', tz='America/New_York'),\n",
       "  Timestamp('2023-10-19 00:00:00-0400', tz='America/New_York'),\n",
       "  Timestamp('2023-10-24 00:00:00-0400', tz='America/New_York')]}"
      ]
     },
     "execution_count": 5,
     "metadata": {},
     "output_type": "execute_result"
    }
   ],
   "source": [
    "strategies.my_rsi(ticker='LLY', start='2023-01-01', end='2024-01-01', interval='1d', lookback=14, min=30, max=70, plot_graphs=False)"
   ]
  },
  {
   "cell_type": "code",
   "execution_count": 6,
   "metadata": {},
   "outputs": [
    {
     "data": {
      "text/plain": [
       "{'buy': DatetimeIndex(['2023-01-27 00:00:00-05:00', '2023-01-30 00:00:00-05:00',\n",
       "                '2023-01-31 00:00:00-05:00', '2023-02-01 00:00:00-05:00',\n",
       "                '2023-02-02 00:00:00-05:00', '2023-02-03 00:00:00-05:00',\n",
       "                '2023-02-24 00:00:00-05:00', '2023-02-27 00:00:00-05:00',\n",
       "                '2023-02-28 00:00:00-05:00', '2023-03-01 00:00:00-05:00',\n",
       "                '2023-03-02 00:00:00-05:00', '2023-03-03 00:00:00-05:00',\n",
       "                '2023-03-06 00:00:00-05:00', '2023-03-07 00:00:00-05:00',\n",
       "                '2023-03-08 00:00:00-05:00', '2023-03-09 00:00:00-05:00',\n",
       "                '2023-03-10 00:00:00-05:00', '2023-03-13 00:00:00-04:00',\n",
       "                '2023-05-26 00:00:00-04:00', '2023-05-30 00:00:00-04:00',\n",
       "                '2023-05-31 00:00:00-04:00', '2023-06-01 00:00:00-04:00',\n",
       "                '2023-07-12 00:00:00-04:00', '2023-07-13 00:00:00-04:00',\n",
       "                '2023-07-14 00:00:00-04:00', '2023-07-17 00:00:00-04:00',\n",
       "                '2023-07-18 00:00:00-04:00', '2023-09-25 00:00:00-04:00',\n",
       "                '2023-09-26 00:00:00-04:00', '2023-09-27 00:00:00-04:00',\n",
       "                '2023-09-28 00:00:00-04:00', '2023-09-29 00:00:00-04:00',\n",
       "                '2023-10-02 00:00:00-04:00', '2023-10-03 00:00:00-04:00',\n",
       "                '2023-10-04 00:00:00-04:00', '2023-10-05 00:00:00-04:00',\n",
       "                '2023-10-06 00:00:00-04:00', '2023-10-30 00:00:00-04:00',\n",
       "                '2023-10-31 00:00:00-04:00', '2023-11-01 00:00:00-04:00',\n",
       "                '2023-11-02 00:00:00-04:00', '2023-11-03 00:00:00-04:00',\n",
       "                '2023-12-04 00:00:00-05:00', '2023-12-05 00:00:00-05:00',\n",
       "                '2023-12-06 00:00:00-05:00', '2023-12-26 00:00:00-05:00',\n",
       "                '2023-12-27 00:00:00-05:00'],\n",
       "               dtype='datetime64[ns, America/New_York]', name='Date', freq=None),\n",
       " 'sell': DatetimeIndex(['2023-02-13 00:00:00-05:00', '2023-02-14 00:00:00-05:00',\n",
       "                '2023-02-15 00:00:00-05:00', '2023-02-16 00:00:00-05:00',\n",
       "                '2023-03-16 00:00:00-04:00', '2023-03-17 00:00:00-04:00',\n",
       "                '2023-03-20 00:00:00-04:00', '2023-03-21 00:00:00-04:00',\n",
       "                '2023-03-22 00:00:00-04:00', '2023-03-23 00:00:00-04:00',\n",
       "                ...\n",
       "                '2023-10-17 00:00:00-04:00', '2023-10-18 00:00:00-04:00',\n",
       "                '2023-10-19 00:00:00-04:00', '2023-10-20 00:00:00-04:00',\n",
       "                '2023-11-09 00:00:00-05:00', '2023-11-10 00:00:00-05:00',\n",
       "                '2023-11-13 00:00:00-05:00', '2023-11-14 00:00:00-05:00',\n",
       "                '2023-11-15 00:00:00-05:00', '2023-11-16 00:00:00-05:00'],\n",
       "               dtype='datetime64[ns, America/New_York]', name='Date', length=113, freq=None)}"
      ]
     },
     "execution_count": 6,
     "metadata": {},
     "output_type": "execute_result"
    }
   ],
   "source": [
    "strategies.my_smi(ticker='LLY', start='2023-01-01', end='2024-01-01', interval='1d', lookback=14, smooth_k = 3, smooth_d = 3, min_level=-40, max_level=40, plot_graphs=False)"
   ]
  },
  {
   "cell_type": "code",
   "execution_count": 7,
   "metadata": {},
   "outputs": [
    {
     "data": {
      "text/plain": [
       "{'buy': DatetimeIndex(['2023-02-02 00:00:00-05:00', '2023-02-16 00:00:00-05:00',\n",
       "                '2023-02-27 00:00:00-05:00', '2023-02-28 00:00:00-05:00',\n",
       "                '2023-07-11 00:00:00-04:00', '2023-07-13 00:00:00-04:00',\n",
       "                '2023-12-14 00:00:00-05:00', '2023-12-15 00:00:00-05:00'],\n",
       "               dtype='datetime64[ns, America/New_York]', name='Date', freq=None),\n",
       " 'sell': DatetimeIndex(['2023-04-03 00:00:00-04:00', '2023-04-04 00:00:00-04:00',\n",
       "                '2023-04-05 00:00:00-04:00', '2023-04-06 00:00:00-04:00',\n",
       "                '2023-04-10 00:00:00-04:00', '2023-05-01 00:00:00-04:00',\n",
       "                '2023-05-03 00:00:00-04:00', '2023-05-04 00:00:00-04:00',\n",
       "                '2023-06-30 00:00:00-04:00', '2023-08-08 00:00:00-04:00',\n",
       "                '2023-08-09 00:00:00-04:00', '2023-08-10 00:00:00-04:00',\n",
       "                '2023-08-11 00:00:00-04:00', '2023-08-14 00:00:00-04:00',\n",
       "                '2023-09-07 00:00:00-04:00', '2023-09-08 00:00:00-04:00',\n",
       "                '2023-09-11 00:00:00-04:00', '2023-09-12 00:00:00-04:00',\n",
       "                '2023-09-13 00:00:00-04:00', '2023-10-11 00:00:00-04:00',\n",
       "                '2023-10-12 00:00:00-04:00'],\n",
       "               dtype='datetime64[ns, America/New_York]', name='Date', freq=None)}"
      ]
     },
     "execution_count": 7,
     "metadata": {},
     "output_type": "execute_result"
    }
   ],
   "source": [
    "strategies.my_bollinger_bands(ticker='LLY', start='2023-01-01', end='2024-01-01', interval='1d', lookback=20, num_std_dev=2, plot_graphs=False)"
   ]
  },
  {
   "cell_type": "code",
   "execution_count": null,
   "metadata": {},
   "outputs": [],
   "source": []
  }
 ],
 "metadata": {
  "kernelspec": {
   "display_name": "finance",
   "language": "python",
   "name": "python3"
  },
  "language_info": {
   "codemirror_mode": {
    "name": "ipython",
    "version": 3
   },
   "file_extension": ".py",
   "mimetype": "text/x-python",
   "name": "python",
   "nbconvert_exporter": "python",
   "pygments_lexer": "ipython3",
   "version": "3.11.8"
  }
 },
 "nbformat": 4,
 "nbformat_minor": 2
}
